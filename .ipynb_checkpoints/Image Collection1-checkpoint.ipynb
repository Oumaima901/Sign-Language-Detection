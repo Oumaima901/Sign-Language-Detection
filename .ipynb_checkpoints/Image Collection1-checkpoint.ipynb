{
 "cells": [
  {
   "cell_type": "code",
   "execution_count": 1,
   "metadata": {},
   "outputs": [],
   "source": [
    "import cv2 \n",
    "import  os\n",
    "import time\n",
    "import uuid"
   ]
  },
  {
   "cell_type": "code",
   "execution_count": 2,
   "metadata": {},
   "outputs": [],
   "source": [
    "IMAGES_PATH= \"Tensorflow/workspace/images/collectedimages\""
   ]
  },
  {
   "cell_type": "code",
   "execution_count": 3,
   "metadata": {},
   "outputs": [],
   "source": [
    "labels = ['hello','thanks','yes','no','iloveyou'] \n",
    "number_img = 15"
   ]
  },
  {
   "cell_type": "code",
   "execution_count": 4,
   "metadata": {},
   "outputs": [
    {
     "name": "stdout",
     "output_type": "stream",
     "text": [
      "collecting images for hello\n",
      "collecting images for 0\n",
      "collecting images for 1\n",
      "collecting images for 2\n",
      "collecting images for 3\n",
      "collecting images for 4\n",
      "collecting images for 5\n",
      "collecting images for 6\n",
      "collecting images for 7\n",
      "collecting images for 8\n",
      "collecting images for 9\n",
      "collecting images for 10\n",
      "collecting images for 11\n",
      "collecting images for 12\n",
      "collecting images for 13\n",
      "collecting images for 14\n",
      "collecting images for thanks\n",
      "collecting images for 0\n",
      "collecting images for 1\n",
      "collecting images for 2\n",
      "collecting images for 3\n",
      "collecting images for 4\n",
      "collecting images for 5\n",
      "collecting images for 6\n",
      "collecting images for 7\n",
      "collecting images for 8\n",
      "collecting images for 9\n",
      "collecting images for 10\n",
      "collecting images for 11\n",
      "collecting images for 12\n",
      "collecting images for 13\n",
      "collecting images for 14\n",
      "collecting images for yes\n",
      "collecting images for 0\n",
      "collecting images for 1\n",
      "collecting images for 2\n",
      "collecting images for 3\n",
      "collecting images for 4\n",
      "collecting images for 5\n",
      "collecting images for 6\n",
      "collecting images for 7\n",
      "collecting images for 8\n",
      "collecting images for 9\n",
      "collecting images for 10\n",
      "collecting images for 11\n",
      "collecting images for 12\n",
      "collecting images for 13\n",
      "collecting images for 14\n",
      "collecting images for no\n",
      "collecting images for 0\n",
      "collecting images for 1\n",
      "collecting images for 2\n",
      "collecting images for 3\n",
      "collecting images for 4\n",
      "collecting images for 5\n",
      "collecting images for 6\n",
      "collecting images for 7\n",
      "collecting images for 8\n",
      "collecting images for 9\n",
      "collecting images for 10\n",
      "collecting images for 11\n",
      "collecting images for 12\n",
      "collecting images for 13\n",
      "collecting images for 14\n",
      "collecting images for iloveyou\n",
      "collecting images for 0\n",
      "collecting images for 1\n",
      "collecting images for 2\n",
      "collecting images for 3\n",
      "collecting images for 4\n",
      "collecting images for 5\n",
      "collecting images for 6\n",
      "collecting images for 7\n",
      "collecting images for 8\n",
      "collecting images for 9\n",
      "collecting images for 10\n",
      "collecting images for 11\n",
      "collecting images for 12\n",
      "collecting images for 13\n",
      "collecting images for 14\n"
     ]
    }
   ],
   "source": [
    "for label in labels:\n",
    "    !mkdir {'Tensorflow\\workspace\\images\\collectedimages\\\\' + label}\n",
    "    cap = cv2.VideoCapture(0)\n",
    "    print('collecting images for {}'.format(label))\n",
    "    time.sleep(5)\n",
    "    for imgnum in range (15):\n",
    "        print('collecting images for {}'.format(imgnum))\n",
    "        ret , frame = cap.read()\n",
    "        imgname = os.path.join(IMAGES_PATH,label,label+'.'+'{}.jpg'.format(str(uuid.uuid1())))\n",
    "        cv2.imwrite(imgname,frame)\n",
    "        cv2.imshow('frame',frame)\n",
    "        time.sleep(2)\n",
    "\n",
    "        if cv2.waitKey(1) & 0xff == ord('q'):\n",
    "            break\n",
    "    cap.release()"
   ]
  },
  {
   "cell_type": "code",
   "execution_count": null,
   "metadata": {},
   "outputs": [],
   "source": []
  },
  {
   "cell_type": "code",
   "execution_count": null,
   "metadata": {},
   "outputs": [],
   "source": []
  }
 ],
 "metadata": {
  "kernelspec": {
   "display_name": "ING",
   "language": "python",
   "name": "ing"
  },
  "language_info": {
   "codemirror_mode": {
    "name": "ipython",
    "version": 3
   },
   "file_extension": ".py",
   "mimetype": "text/x-python",
   "name": "python",
   "nbconvert_exporter": "python",
   "pygments_lexer": "ipython3",
   "version": "3.6.8"
  }
 },
 "nbformat": 4,
 "nbformat_minor": 4
}
